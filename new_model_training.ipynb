{
 "cells": [
  {
   "cell_type": "code",
   "execution_count": 1,
   "id": "549760d1-2989-4a0f-b146-8f3fc4e1b6f4",
   "metadata": {},
   "outputs": [],
   "source": [
    "import pandas as pd\n",
    "import matplotlib.pyplot as plt\n",
    "from sklearn.model_selection import train_test_split, cross_val_score, GridSearchCV\n",
    "from sklearn.preprocessing import StandardScaler, OneHotEncoder\n",
    "from sklearn.impute import SimpleImputer\n",
    "from sklearn.metrics import accuracy_score, classification_report, confusion_matrix\n",
    "from sklearn.pipeline import Pipeline\n",
    "from sklearn.compose import ColumnTransformer"
   ]
  },
  {
   "cell_type": "code",
   "execution_count": 2,
   "id": "87d5401f-aa5e-42d7-8d4b-3fe16332c952",
   "metadata": {},
   "outputs": [],
   "source": [
    "from tensorflow.keras.models import Sequential\n",
    "from tensorflow.keras.layers import Dense, Dropout\n",
    "from tensorflow.keras.wrappers.scikit_learn import KerasClassifier"
   ]
  },
  {
   "cell_type": "code",
   "execution_count": 3,
   "id": "8a8d1986-98c0-4a52-b4fd-d834d1b3a7f1",
   "metadata": {},
   "outputs": [],
   "source": [
    "import torch\n",
    "import torch.nn as nn\n",
    "import torch.optim as optim\n",
    "from torch.utils.data import DataLoader, TensorDataset"
   ]
  },
  {
   "cell_type": "code",
   "execution_count": 4,
   "id": "ac8a0ce6-1653-4f9d-9459-b2fb98481a44",
   "metadata": {},
   "outputs": [
    {
     "name": "stdout",
     "output_type": "stream",
     "text": [
      "0    460520\n",
      "1    100613\n",
      "Name: V28HCCCODED, dtype: int64\n"
     ]
    }
   ],
   "source": [
    "file_path = './data/dataset_train.csv'  # Update to the correct file path\n",
    "df = pd.read_csv(file_path)\n",
    "df.set_index('CENSEOID', inplace=True)\n",
    "df.drop(['CLIENTID', 'CLIENT'], axis=1, inplace=True)\n",
    "print(df['V28HCCCODED'].value_counts())\n",
    "if df['V28HCCCODED'].nunique() <= 1:\n",
    "    raise ValueError(\"The dataset contains only one class. Add more diverse samples.\")\n",
    "X = df.drop('V28HCCCODED', axis=1)\n",
    "y = df['V28HCCCODED']"
   ]
  },
  {
   "cell_type": "code",
   "execution_count": 5,
   "id": "300a45f1-ddbd-4448-8cc4-bb66abaf803a",
   "metadata": {},
   "outputs": [],
   "source": [
    "age_group_col = 'MEMBERAGEGROUP'\n",
    "X[age_group_col] = X[age_group_col].astype(str)\n",
    "numerical_cols = [col for col in X.columns if X[col].dtype in ['int64', 'float64']]\n",
    "categorical_cols = [col for col in X.columns if X[col].dtype == 'object']"
   ]
  },
  {
   "cell_type": "code",
   "execution_count": 6,
   "id": "ebbbc527-7962-412e-a08d-e9dbb8a9da5f",
   "metadata": {},
   "outputs": [],
   "source": [
    "num_transformer = Pipeline(steps=[\n",
    "    ('imputer', SimpleImputer(strategy='mean')),\n",
    "    ('scaler', StandardScaler())\n",
    "])\n",
    "\n",
    "cat_transformer = Pipeline(steps=[\n",
    "    ('imputer', SimpleImputer(strategy='most_frequent')),\n",
    "    ('onehot', OneHotEncoder(handle_unknown='ignore'))\n",
    "])"
   ]
  },
  {
   "cell_type": "code",
   "execution_count": 7,
   "id": "642ac0f4-afbf-4b74-9083-388dabc0fa48",
   "metadata": {},
   "outputs": [],
   "source": [
    "preprocessor = ColumnTransformer(\n",
    "    transformers=[\n",
    "        ('num', num_transformer, numerical_cols),\n",
    "        ('cat', cat_transformer, categorical_cols)\n",
    "    ])\n"
   ]
  },
  {
   "cell_type": "code",
   "execution_count": 8,
   "id": "49cdcfe2-7c57-4ef0-93c6-7dc8115abdd9",
   "metadata": {},
   "outputs": [],
   "source": [
    "X_processed = preprocessor.fit_transform(X)\n",
    "input_shape = X_processed.shape[1]"
   ]
  },
  {
   "cell_type": "code",
   "execution_count": 9,
   "id": "81d9763f-7b32-498b-a8e1-0e92397bf209",
   "metadata": {},
   "outputs": [],
   "source": [
    "X_train, X_test, y_train, y_test = train_test_split(\n",
    "    X_processed, y, test_size=0.2, random_state=42, stratify=y)"
   ]
  },
  {
   "cell_type": "code",
   "execution_count": 10,
   "id": "4d9b0941-50d3-412a-bb0a-6abbd8db6b75",
   "metadata": {},
   "outputs": [],
   "source": [
    "def build_keras_model():\n",
    "    model = Sequential()\n",
    "    model.add(Dense(64, input_dim=input_shape, activation='relu'))\n",
    "    model.add(Dropout(0.2))\n",
    "    model.add(Dense(32, activation='relu'))\n",
    "    model.add(Dropout(0.2))\n",
    "    model.add(Dense(1, activation='sigmoid'))\n",
    "    model.compile(optimizer='adam', loss='binary_crossentropy', metrics=['accuracy'])\n",
    "    return model"
   ]
  },
  {
   "cell_type": "code",
   "execution_count": 11,
   "id": "3578412e-19d2-4e4e-b4d6-4c314fd8bb53",
   "metadata": {},
   "outputs": [
    {
     "name": "stdout",
     "output_type": "stream",
     "text": [
      "\n",
      "Training Keras Model...\n"
     ]
    },
    {
     "name": "stderr",
     "output_type": "stream",
     "text": [
      "C:\\Users\\samya\\AppData\\Local\\Temp\\ipykernel_30624\\2698238922.py:2: DeprecationWarning: KerasClassifier is deprecated, use Sci-Keras (https://github.com/adriangb/scikeras) instead. See https://www.adriangb.com/scikeras/stable/migration.html for help migrating.\n",
      "  keras_model = KerasClassifier(build_fn=build_keras_model, epochs=10, batch_size=32, verbose=0)\n"
     ]
    },
    {
     "name": "stdout",
     "output_type": "stream",
     "text": [
      "2806/2806 [==============================] - 3s 1ms/step\n",
      "2806/2806 [==============================] - 3s 1ms/step\n",
      "2806/2806 [==============================] - 2s 582us/step\n",
      "2806/2806 [==============================] - 8s 3ms/step\n",
      "2806/2806 [==============================] - 3s 904us/step\n",
      "\n",
      "Keras Model Accuracy (Cross-Validation): 0.8315\n"
     ]
    }
   ],
   "source": [
    "print(\"\\nTraining Keras Model...\")\n",
    "keras_model = KerasClassifier(build_fn=build_keras_model, epochs=10, batch_size=32, verbose=0)\n",
    "\n",
    "# Evaluate Keras model using cross-validation\n",
    "scores = cross_val_score(keras_model, X_train, y_train, cv=5, scoring='accuracy', error_score='raise')\n",
    "accuracy_keras = scores.mean()\n",
    "print(f'\\nKeras Model Accuracy (Cross-Validation): {accuracy_keras:.4f}')"
   ]
  },
  {
   "cell_type": "code",
   "execution_count": 12,
   "id": "6a6e3c37-89c0-403d-bb6c-7d4e9ebc60d7",
   "metadata": {},
   "outputs": [],
   "source": [
    "class PyTorchNN(nn.Module):\n",
    "    def __init__(self, input_size):\n",
    "        super(PyTorchNN, self).__init__()\n",
    "        self.layer1 = nn.Linear(input_size, 64)\n",
    "        self.layer2 = nn.Linear(64, 32)\n",
    "        self.output = nn.Linear(32, 1)\n",
    "        self.dropout = nn.Dropout(0.2)\n",
    "\n",
    "    def forward(self, x):\n",
    "        x = torch.relu(self.layer1(x))\n",
    "        x = self.dropout(x)\n",
    "        x = torch.relu(self.layer2(x))\n",
    "        x = self.dropout(x)\n",
    "        x = torch.sigmoid(self.output(x))\n",
    "        return x"
   ]
  },
  {
   "cell_type": "code",
   "execution_count": 13,
   "id": "e4f0d34f-96eb-4a74-9cd9-54b3abc92fff",
   "metadata": {},
   "outputs": [],
   "source": [
    "# Train PyTorch model\n",
    "def train_pytorch_model(X_train, y_train, X_test, y_test):\n",
    "    input_size = X_train.shape[1]\n",
    "    model = PyTorchNN(input_size)\n",
    "    criterion = nn.BCELoss()\n",
    "    optimizer = optim.Adam(model.parameters(), lr=0.001)\n",
    "\n",
    "    # Convert data to PyTorch tensors\n",
    "    X_train_tensor = torch.tensor(X_train.values, dtype=torch.float32)\n",
    "    y_train_tensor = torch.tensor(y_train.values, dtype=torch.float32).view(-1, 1)\n",
    "    X_test_tensor = torch.tensor(X_test.values, dtype=torch.float32)\n",
    "    y_test_tensor = torch.tensor(y_test.values, dtype=torch.float32).view(-1, 1)\n",
    "\n",
    "    train_dataset = TensorDataset(X_train_tensor, y_train_tensor)\n",
    "    train_loader = DataLoader(train_dataset, batch_size=32, shuffle=True)\n",
    "\n",
    "    # Train the model\n",
    "    model.train()\n",
    "    for epoch in range(10):  # Train for 10 epochs\n",
    "        for X_batch, y_batch in train_loader:\n",
    "            optimizer.zero_grad()\n",
    "            outputs = model(X_batch)\n",
    "            loss = criterion(outputs, y_batch)\n",
    "            loss.backward()\n",
    "            optimizer.step()\n",
    "\n",
    "    # Evaluate the model\n",
    "    model.eval()\n",
    "    with torch.no_grad():\n",
    "        y_pred = model(X_test_tensor).round()\n",
    "        accuracy = accuracy_score(y_test_tensor, y_pred)\n",
    "        print(f'PyTorch Model Accuracy: {accuracy:.4f}')\n",
    "        print(classification_report(y_test_tensor, y_pred))"
   ]
  },
  {
   "cell_type": "code",
   "execution_count": 14,
   "id": "f3a63e83-3edb-4727-ad99-2e29f7a63c5c",
   "metadata": {},
   "outputs": [
    {
     "name": "stdout",
     "output_type": "stream",
     "text": [
      "\n",
      "Training PyTorch Model...\n",
      "PyTorch Model Accuracy: 0.8311\n",
      "              precision    recall  f1-score   support\n",
      "\n",
      "         0.0       0.84      0.99      0.91     92104\n",
      "         1.0       0.67      0.12      0.20     20123\n",
      "\n",
      "    accuracy                           0.83    112227\n",
      "   macro avg       0.75      0.55      0.55    112227\n",
      "weighted avg       0.81      0.83      0.78    112227\n",
      "\n"
     ]
    }
   ],
   "source": [
    "X_train, X_test, y_train, y_test = train_test_split(\n",
    "    X, y, test_size=0.2, random_state=42, stratify=y)\n",
    "\n",
    "# Ensure X_train and X_test are DataFrames\n",
    "X_train = pd.DataFrame(X_train, columns=X.columns)\n",
    "X_test = pd.DataFrame(X_test, columns=X.columns)\n",
    "\n",
    "# Fit and transform the preprocessor\n",
    "X_train_processed = preprocessor.fit_transform(X_train)\n",
    "X_test_processed = preprocessor.transform(X_test)\n",
    "\n",
    "# Convert processed data back to DataFrames\n",
    "feature_names = preprocessor.get_feature_names_out()\n",
    "X_train_df = pd.DataFrame(X_train_processed, columns=feature_names)\n",
    "X_test_df = pd.DataFrame(X_test_processed, columns=feature_names)\n",
    "\n",
    "# Train PyTorch model\n",
    "print(\"\\nTraining PyTorch Model...\")\n",
    "train_pytorch_model(X_train_df, y_train, X_test_df, y_test)\n"
   ]
  },
  {
   "cell_type": "code",
   "execution_count": 1,
   "id": "bd55518a-01ba-4dfd-bfea-aa9a55f4d1c1",
   "metadata": {},
   "outputs": [
    {
     "ename": "ModuleNotFoundError",
     "evalue": "No module named 'tensorflow.keras'",
     "output_type": "error",
     "traceback": [
      "\u001b[1;31m---------------------------------------------------------------------------\u001b[0m",
      "\u001b[1;31mModuleNotFoundError\u001b[0m                       Traceback (most recent call last)",
      "Cell \u001b[1;32mIn[1], line 1\u001b[0m\n\u001b[1;32m----> 1\u001b[0m \u001b[38;5;28;01mfrom\u001b[39;00m \u001b[38;5;21;01mtensorflow\u001b[39;00m\u001b[38;5;21;01m.\u001b[39;00m\u001b[38;5;21;01mkeras\u001b[39;00m\u001b[38;5;21;01m.\u001b[39;00m\u001b[38;5;21;01mmodel\u001b[39;00m \u001b[38;5;28;01mimport\u001b[39;00m Sequential\n\u001b[0;32m      2\u001b[0m \u001b[38;5;28;01mfrom\u001b[39;00m \u001b[38;5;21;01mtensorflow\u001b[39;00m\u001b[38;5;21;01m.\u001b[39;00m\u001b[38;5;21;01mkeras\u001b[39;00m\u001b[38;5;21;01m.\u001b[39;00m\u001b[38;5;21;01mlayers\u001b[39;00m \u001b[38;5;28;01mimport\u001b[39;00m Dense, Dropout\n\u001b[0;32m      3\u001b[0m \u001b[38;5;28;01mfrom\u001b[39;00m \u001b[38;5;21;01mtensorflow\u001b[39;00m\u001b[38;5;21;01m.\u001b[39;00m\u001b[38;5;21;01mkeras\u001b[39;00m\u001b[38;5;21;01m.\u001b[39;00m\u001b[38;5;21;01mwrappers\u001b[39;00m\u001b[38;5;21;01m.\u001b[39;00m\u001b[38;5;21;01mscikit_learn\u001b[39;00m \u001b[38;5;28;01mimport\u001b[39;00m KerasClassifier\n",
      "\u001b[1;31mModuleNotFoundError\u001b[0m: No module named 'tensorflow.keras'"
     ]
    }
   ],
   "source": []
  },
  {
   "cell_type": "code",
   "execution_count": null,
   "id": "080f1d11-996a-4ef9-bed8-791a694d71fb",
   "metadata": {},
   "outputs": [],
   "source": []
  }
 ],
 "metadata": {
  "kernelspec": {
   "display_name": "Python 3 (ipykernel)",
   "language": "python",
   "name": "python3"
  },
  "language_info": {
   "codemirror_mode": {
    "name": "ipython",
    "version": 3
   },
   "file_extension": ".py",
   "mimetype": "text/x-python",
   "name": "python",
   "nbconvert_exporter": "python",
   "pygments_lexer": "ipython3",
   "version": "3.11.7"
  }
 },
 "nbformat": 4,
 "nbformat_minor": 5
}
